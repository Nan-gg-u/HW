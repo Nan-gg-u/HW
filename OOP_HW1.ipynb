{
 "cells": [
  {
   "cell_type": "markdown",
   "id": "445f7513-e063-4995-b90f-f07703ec70ba",
   "metadata": {},
   "source": [
    "OOP (2024 Fall) HW1: 불변 순서쌍을 활용해 가변 순서쌍 만들기\n",
    "======\n",
    "* 이름: 최민기\n",
    "* 학번: 20200561"
   ]
  },
  {
   "cell_type": "code",
   "execution_count": 28,
   "id": "0e33c453-684b-4ac4-a408-a60d834452dd",
   "metadata": {},
   "outputs": [],
   "source": [
    "public record Pair<F, S>(F first, S second) implements Comparable<Pair<F, S>> {\n",
    "\n",
    "    public static <F, S> Pair<F, S> of(F first, S second) {\n",
    "        return new Pair<>(first, second);\n",
    "    }\n",
    "\n",
    "    \n",
    "    @Override\n",
    "    public int compareTo(Pair<F, S> o) {\n",
    "\n",
    "        if (first instanceof Comparable<?> && o.first instanceof Comparable<?>) {\n",
    "            int firstComparison = ((Comparable<F>) first).compareTo(o.first);\n",
    "            if (firstComparison != 0) {\n",
    "                return firstComparison; \n",
    "            }\n",
    "        }\n",
    "\n",
    "        if (second instanceof Comparable<?> && o.second instanceof Comparable<?>) {\n",
    "            return ((Comparable<S>) second).compareTo(o.second);\n",
    "        }\n",
    "        \n",
    "        return 0; \n",
    "    }\n",
    "}\n",
    "\n"
   ]
  },
  {
   "cell_type": "code",
   "execution_count": 29,
   "id": "68ef1b1a-3e0f-4dbd-b820-2f8382f52131",
   "metadata": {},
   "outputs": [
    {
     "name": "stdout",
     "output_type": "stream",
     "text": [
      "Test 1 (pair1 > pair2): 1\n",
      "Test 2 (pair2 < pair1): -1\n",
      "Test 3 (pair1 == pair3): -2\n",
      "Test 4 (pair1 == pair4): 0\n"
     ]
    }
   ],
   "source": [
    "public class Main {\n",
    "    public static void main(String[] args) {\n",
    "    \n",
    "        Pair<Integer, String> pair1 = Pair.of(10, \"A\");\n",
    "        Pair<Integer, String> pair2 = Pair.of(5, \"B\");\n",
    "        Pair<Integer, String> pair3 = Pair.of(10, \"C\");\n",
    "        Pair<Integer, String> pair4 = Pair.of(10, \"A\"); \n",
    "\n",
    "    \n",
    "        System.out.println(\"Test 1 (pair1 > pair2): \" + (pair1.compareTo(pair2))); \n",
    "        \n",
    "        \n",
    "        System.out.println(\"Test 2 (pair2 < pair1): \" + (pair2.compareTo(pair1))); \n",
    "        \n",
    "        \n",
    "        System.out.println(\"Test 3 (pair1 == pair3): \" + (pair1.compareTo(pair3)));\n",
    "\n",
    "       \n",
    "        System.out.println(\"Test 4 (pair1 == pair4): \" + (pair1.compareTo(pair4))); \n",
    "    }\n",
    "}\n",
    "Main.main(null);"
   ]
  },
  {
   "cell_type": "code",
   "execution_count": 15,
   "id": "e4eac7f7-9a2f-4440-be49-fe6b16aa2e83",
   "metadata": {},
   "outputs": [],
   "source": [
    "class Pair<F, S> {\n",
    "    private final F first;\n",
    "    private final S second;\n",
    "\n",
    "    public Pair(F first, S second) {\n",
    "        this.first = first;\n",
    "        this.second = second;\n",
    "    }\n",
    "\n",
    "    public F getFirst() {\n",
    "        return first;\n",
    "    }\n",
    "\n",
    "    public S getSecond() {\n",
    "        return second;\n",
    "    }\n",
    "\n",
    "    @Override\n",
    "    public String toString() {\n",
    "        return \"(\" + first + \", \" + second + \")\";\n",
    "    }\n",
    "}\n",
    "\n",
    "// ModifiablePair 클래스\n",
    "class ModifiablePair<F extends Comparable<F>, S extends Comparable<S>> implements Comparable<ModifiablePair<F, S>> {\n",
    "    private Pair<F, S> pair; \n",
    "\n",
    "    public ModifiablePair(F first, S second) {\n",
    "        this.pair = new Pair<>(first, second);\n",
    "    }\n",
    "\n",
    "    public F first() {\n",
    "        return pair.getFirst();\n",
    "    }\n",
    "\n",
    "    public S second() {\n",
    "        return pair.getSecond();\n",
    "    }\n",
    "\n",
    "    public void setFirst(F first) {\n",
    "        this.pair = new Pair<>(first, this.second()); \n",
    "    }\n",
    "\n",
    "    public void setSecond(S second) {\n",
    "        this.pair = new Pair<>(this.first(), second); \n",
    "    }\n",
    "\n",
    "    @Override\n",
    "    public int compareTo(ModifiablePair<F, S> other) {\n",
    "        int firstComparison = this.first().compareTo(other.first());\n",
    "        if (firstComparison != 0) {\n",
    "            return firstComparison;\n",
    "        }\n",
    "        return this.second().compareTo(other.second());\n",
    "    }\n",
    "\n",
    "    @Override\n",
    "    public String toString() {\n",
    "        return pair.toString();\n",
    "    }\n",
    "}\n"
   ]
  },
  {
   "cell_type": "code",
   "execution_count": 16,
   "id": "cc6da28d-4f4b-4e88-a194-e3cae15a58e2",
   "metadata": {},
   "outputs": [
    {
     "name": "stdout",
     "output_type": "stream",
     "text": [
      "초기 값: 1, Apple\n",
      "first(): 1, second(): Apple\n",
      "변경된 값: 2, Banana\n"
     ]
    }
   ],
   "source": [
    "public class Main {\n",
    "    public static void main(String[] args) {\n",
    "        ModifiablePair<Integer, String> modifiablePair = new ModifiablePair<>(1, \"Apple\");\n",
    "\n",
    "        System.out.println(\"초기 값: \" + modifiablePair.first() + \", \" + modifiablePair.second());  \n",
    "\n",
    "        Integer firstValue = modifiablePair.first();  \n",
    "        String secondValue = modifiablePair.second();  \n",
    "        System.out.println(\"first(): \" + firstValue + \", second(): \" + secondValue);  \n",
    "\n",
    "        modifiablePair.setFirst(2);\n",
    "        modifiablePair.setSecond(\"Banana\");\n",
    "\n",
    "        System.out.println(\"변경된 값: \" + modifiablePair.first() + \", \" + modifiablePair.second());  \n",
    "      \n",
    "    }\n",
    "}\n",
    "\n",
    "Main.main(null);"
   ]
  },
  {
   "cell_type": "code",
   "execution_count": null,
   "id": "df123d88-d720-4d03-8f19-b33a4a61f87e",
   "metadata": {},
   "outputs": [],
   "source": []
  }
 ],
 "metadata": {
  "kernelspec": {
   "display_name": "Java (rjk 2.1.0)",
   "language": "java",
   "name": "rapaio-jupyter-kernel"
  },
  "language_info": {
   "codemirror_mode": "java",
   "file_extension": ".jshell",
   "mimetype": "text/x-java-source",
   "name": "java",
   "nbconvert_exporter": "script",
   "pygments_lexer": "java",
   "version": "22.0.2+9"
  }
 },
 "nbformat": 4,
 "nbformat_minor": 5
}
